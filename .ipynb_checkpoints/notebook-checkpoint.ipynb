{
 "cells": [
  {
   "cell_type": "markdown",
   "metadata": {},
   "source": [
    "# Notebook for Permutasi 2020"
   ]
  },
  {
   "cell_type": "code",
   "execution_count": 1,
   "metadata": {},
   "outputs": [],
   "source": [
    "# enable auto reload module\n",
    "%load_ext autoreload\n",
    "%autoreload 2"
   ]
  },
  {
   "cell_type": "code",
   "execution_count": 10,
   "metadata": {},
   "outputs": [],
   "source": [
    "import numpy as np\n",
    "from prep_module import load_dataset, load_matrix, Preprocessor\n",
    "from train_module import get_model"
   ]
  },
  {
   "cell_type": "code",
   "execution_count": 7,
   "metadata": {},
   "outputs": [],
   "source": [
    "X_train, y_train, X_val, y_val, X_test, y_test = load_dataset()\n",
    "prep = Preprocessor()\n",
    "\n",
    "train_tokenizer = prep.tokenize([X_train, X_val])\n",
    "prep.word_index_to_json(train_tokenizer, './word_index_train.json')\n",
    "\n",
    "X_train_clean = prep.run(X_train, train_tokenizer)\n",
    "X_val_clean   = prep.run(X_val,   train_tokenizer)"
   ]
  },
  {
   "cell_type": "code",
   "execution_count": null,
   "metadata": {},
   "outputs": [],
   "source": [
    "emb_matrix = load_matrix('train')\n",
    "model = get_model(n_hidden=16, emb_matrix=emb_matrix, save_init_weights=True)\n",
    "\n",
    "epochs = 200\n",
    "hist = model.fit(X_train_clean, y_train, epochs=epochs, batch_size=512, \\\n",
    "                 verbose=2, validation_data=(X_val_clean, y_val))"
   ]
  },
  {
   "cell_type": "code",
   "execution_count": null,
   "metadata": {},
   "outputs": [],
   "source": []
  }
 ],
 "metadata": {
  "kernelspec": {
   "display_name": "Python 3",
   "language": "python",
   "name": "python3"
  },
  "language_info": {
   "codemirror_mode": {
    "name": "ipython",
    "version": 3
   },
   "file_extension": ".py",
   "mimetype": "text/x-python",
   "name": "python",
   "nbconvert_exporter": "python",
   "pygments_lexer": "ipython3",
   "version": "3.6.5"
  }
 },
 "nbformat": 4,
 "nbformat_minor": 4
}
