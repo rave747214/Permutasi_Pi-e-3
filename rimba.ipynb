{
 "cells": [
  {
   "cell_type": "code",
   "execution_count": null,
   "metadata": {
    "colab": {
     "base_uri": "https://localhost:8080/",
     "height": 355
    },
    "colab_type": "code",
    "executionInfo": {
     "elapsed": 8206,
     "status": "ok",
     "timestamp": 1598330659008,
     "user": {
      "displayName": "Rimba Erlangga",
      "photoUrl": "https://lh3.googleusercontent.com/a-/AOh14GhbDizMzOZJzm_ZDS53p6dfQWrXNeeVUIQ4OxH6iQ=s64",
      "userId": "02962041020436232844"
     },
     "user_tz": -420
    },
    "id": "wXDEvtxf51oU",
    "outputId": "317b41ba-579f-4169-abff-4c40abb10225"
   },
   "outputs": [
    {
     "name": "stdout",
     "output_type": "stream",
     "text": [
      "Requirement already satisfied: gensim in /usr/local/lib/python3.6/dist-packages (3.6.0)\n",
      "Requirement already satisfied: smart-open>=1.2.1 in /usr/local/lib/python3.6/dist-packages (from gensim) (2.1.0)\n",
      "Requirement already satisfied: six>=1.5.0 in /usr/local/lib/python3.6/dist-packages (from gensim) (1.15.0)\n",
      "Requirement already satisfied: scipy>=0.18.1 in /usr/local/lib/python3.6/dist-packages (from gensim) (1.4.1)\n",
      "Requirement already satisfied: numpy>=1.11.3 in /usr/local/lib/python3.6/dist-packages (from gensim) (1.18.5)\n",
      "Requirement already satisfied: boto in /usr/local/lib/python3.6/dist-packages (from smart-open>=1.2.1->gensim) (2.49.0)\n",
      "Requirement already satisfied: requests in /usr/local/lib/python3.6/dist-packages (from smart-open>=1.2.1->gensim) (2.23.0)\n",
      "Requirement already satisfied: boto3 in /usr/local/lib/python3.6/dist-packages (from smart-open>=1.2.1->gensim) (1.14.37)\n",
      "Requirement already satisfied: urllib3!=1.25.0,!=1.25.1,<1.26,>=1.21.1 in /usr/local/lib/python3.6/dist-packages (from requests->smart-open>=1.2.1->gensim) (1.24.3)\n",
      "Requirement already satisfied: certifi>=2017.4.17 in /usr/local/lib/python3.6/dist-packages (from requests->smart-open>=1.2.1->gensim) (2020.6.20)\n",
      "Requirement already satisfied: chardet<4,>=3.0.2 in /usr/local/lib/python3.6/dist-packages (from requests->smart-open>=1.2.1->gensim) (3.0.4)\n",
      "Requirement already satisfied: idna<3,>=2.5 in /usr/local/lib/python3.6/dist-packages (from requests->smart-open>=1.2.1->gensim) (2.10)\n",
      "Requirement already satisfied: jmespath<1.0.0,>=0.7.1 in /usr/local/lib/python3.6/dist-packages (from boto3->smart-open>=1.2.1->gensim) (0.10.0)\n",
      "Requirement already satisfied: botocore<1.18.0,>=1.17.37 in /usr/local/lib/python3.6/dist-packages (from boto3->smart-open>=1.2.1->gensim) (1.17.37)\n",
      "Requirement already satisfied: s3transfer<0.4.0,>=0.3.0 in /usr/local/lib/python3.6/dist-packages (from boto3->smart-open>=1.2.1->gensim) (0.3.3)\n",
      "Requirement already satisfied: python-dateutil<3.0.0,>=2.1 in /usr/local/lib/python3.6/dist-packages (from botocore<1.18.0,>=1.17.37->boto3->smart-open>=1.2.1->gensim) (2.8.1)\n",
      "Requirement already satisfied: docutils<0.16,>=0.10 in /usr/local/lib/python3.6/dist-packages (from botocore<1.18.0,>=1.17.37->boto3->smart-open>=1.2.1->gensim) (0.15.2)\n"
     ]
    }
   ],
   "source": [
    "!pip install gensim\n",
    "!pip install fasttext"
   ]
  },
  {
   "cell_type": "code",
   "execution_count": null,
   "metadata": {
    "colab": {
     "base_uri": "https://localhost:8080/",
     "height": 204
    },
    "colab_type": "code",
    "executionInfo": {
     "elapsed": 124537,
     "status": "ok",
     "timestamp": 1598332216961,
     "user": {
      "displayName": "Rimba Erlangga",
      "photoUrl": "https://lh3.googleusercontent.com/a-/AOh14GhbDizMzOZJzm_ZDS53p6dfQWrXNeeVUIQ4OxH6iQ=s64",
      "userId": "02962041020436232844"
     },
     "user_tz": -420
    },
    "id": "cTp50wCT-ILO",
    "outputId": "becc2b5d-9afe-4db0-b4cb-b55c236ae833"
   },
   "outputs": [
    {
     "name": "stdout",
     "output_type": "stream",
     "text": [
      "--2020-08-25 05:08:11--  https://dumps.wikimedia.org/idwiki/latest/idwiki-latest-pages-articles.xml.bz2\n",
      "Resolving dumps.wikimedia.org (dumps.wikimedia.org)... 208.80.154.7, 2620:0:861:1:208:80:154:7\n",
      "Connecting to dumps.wikimedia.org (dumps.wikimedia.org)|208.80.154.7|:443... connected.\n",
      "HTTP request sent, awaiting response... 200 OK\n",
      "Length: 618753807 (590M) [application/octet-stream]\n",
      "Saving to: ‘idwiki-latest-pages-articles.xml.bz2’\n",
      "\n",
      "idwiki-latest-pages 100%[===================>] 590.09M  4.76MB/s    in 2m 3s   \n",
      "\n",
      "2020-08-25 05:10:15 (4.79 MB/s) - ‘idwiki-latest-pages-articles.xml.bz2’ saved [618753807/618753807]\n",
      "\n"
     ]
    }
   ],
   "source": [
    "!wget 'https://dumps.wikimedia.org/idwiki/latest/idwiki-latest-pages-articles.xml.bz2'"
   ]
  },
  {
   "cell_type": "code",
   "execution_count": null,
   "metadata": {
    "colab": {},
    "colab_type": "code",
    "id": "CkLZ5FTTBD3S"
   },
   "outputs": [],
   "source": [
    "from gensim.corpora import WikiCorpus\n",
    "from time import time\n",
    "\n",
    "now = time()\n",
    "dataset = WikiCorpus(\"idwiki-latest-pages-articles.xml.bz2\", \\\n",
    "                     lemmatize=False, dictionary={})\n",
    "print('Done loading datasets')\n",
    "\n",
    "with open(\"wiki-id-formatted.txt\", 'w', encoding=\"utf8\") as output:\n",
    "    counter = 0\n",
    "    for text in dataset.get_texts():\n",
    "        output.write(' '.join(text)+\"\\n\")\n",
    "        counter += 1\n",
    "        if counter % 10000 == 0:\n",
    "            print(counter, 'data done')\n",
    "\n",
    "print('Done in %.2fs' % (time() - now))"
   ]
  },
  {
   "cell_type": "code",
   "execution_count": null,
   "metadata": {
    "colab": {
     "base_uri": "https://localhost:8080/",
     "height": 34
    },
    "colab_type": "code",
    "executionInfo": {
     "elapsed": 59307,
     "status": "ok",
     "timestamp": 1598334028299,
     "user": {
      "displayName": "Rimba Erlangga",
      "photoUrl": "https://lh3.googleusercontent.com/a-/AOh14GhbDizMzOZJzm_ZDS53p6dfQWrXNeeVUIQ4OxH6iQ=s64",
      "userId": "02962041020436232844"
     },
     "user_tz": -420
    },
    "id": "neXuyInMBmdO",
    "outputId": "05e51191-1380-46ac-db9e-9857c516b836"
   },
   "outputs": [
    {
     "name": "stdout",
     "output_type": "stream",
     "text": [
      "  adding: wiki-id-formatted.txt (deflated 70%)\n"
     ]
    }
   ],
   "source": [
    "!zip corpus.zip wiki-id-formatted.txt "
   ]
  },
  {
   "cell_type": "markdown",
   "metadata": {
    "colab_type": "text",
    "id": "enUzH3NPILVR"
   },
   "source": [
    "# Preparation"
   ]
  },
  {
   "cell_type": "code",
   "execution_count": 171,
   "metadata": {
    "colab": {
     "base_uri": "https://localhost:8080/",
     "height": 391
    },
    "colab_type": "code",
    "executionInfo": {
     "elapsed": 1023,
     "status": "ok",
     "timestamp": 1598605945269,
     "user": {
      "displayName": "Rimba Erlangga",
      "photoUrl": "https://lh3.googleusercontent.com/a-/AOh14GhbDizMzOZJzm_ZDS53p6dfQWrXNeeVUIQ4OxH6iQ=s64",
      "userId": "02962041020436232844"
     },
     "user_tz": -420
    },
    "id": "rPXo7UWd62mo",
    "outputId": "d56cbeb3-c76b-45da-da8a-7065e78e6e98"
   },
   "outputs": [
    {
     "name": "stdout",
     "output_type": "stream",
     "text": [
      "  RES_ID                                           RESPONSE  LABEL\n",
      "0   TRA1  intetraksi/beradaptasi terhadap lingkungan yan...      1\n",
      "1   TRA2         seperti jatuhnya meteor tsunami gempa bumi      0\n",
      "2   TRA3      hanya tuhan yang tahu tantangan nya itu apaan      0\n",
      "3   TRA4                      mereka akan sulit beradaptasi      1\n",
      "4   TRA5             Tempat tinggal, ekonomi, dan pekerjaan      1\n",
      "\n",
      "  RES_ID                                           RESPONSE  LABEL\n",
      "0  DEVA1  karena di tempat tnggalnya tidak aman karena b...      0\n",
      "1  DEVA2  banyak yang menolak, susah mencari lapangan pe...      1\n",
      "2  DEVA3  ah berkomunikasi dengan wilyah yang mereka tem...      1\n",
      "3  DEVA4  tantangan yang akan mereka hadapi, seperti mer...      1\n",
      "4  DEVA5      Mereka akan tidak terbiasa dengan tempat baru      1\n",
      "\n",
      "  RES_ID                                           RESPONSE  LABEL\n",
      "0   TSA1  beradaptasi dengan lingkunagn baru, lahan dan ...      1\n",
      "1   TSA2  Pengungsi akan mencari mata pencaharian yang b...      1\n",
      "2   TSA3                           komunitas dan negaranya.      1\n",
      "3   TSA4  mereka perlu menyesuaikan diri dan beradaptasi...      1\n",
      "4   TSA5               TANTANGNNYA ADALAH KEBUTUHAN EKONOMI      1\n",
      "\n",
      " 268 215 855\n"
     ]
    }
   ],
   "source": [
    "import pandas as pd\n",
    "\n",
    "tra = pd.read_csv('drive/My Drive/Kompetisi/Data Mining Gemastik 19/' \\\n",
    "                    'Data_A_UKARA/data_train_A.csv')\n",
    "val  = pd.read_csv('drive/My Drive/Kompetisi/Data Mining Gemastik 19/' \\\n",
    "                   'Data_A_UKARA/data_dev_A.csv')\n",
    "tes = pd.read_csv('drive/My Drive/Kompetisi/Data Mining Gemastik 19/' \\\n",
    "                    'Data_A_UKARA/data_test_A.csv')\n",
    "\n",
    "print(tra.head(), val.head(), tes.head(), sep='\\n\\n')\n",
    "\n",
    "x_tra, y_tra = tra['RESPONSE'].values, tra['LABEL'].values\n",
    "x_val, y_val = val['RESPONSE'].values, val['LABEL'].values\n",
    "x_tes, y_tes = tes['RESPONSE'].values, tes['LABEL'].values\n",
    "\n",
    "y_tra = y_tra.reshape(-1, 1)\n",
    "y_val = y_val.reshape(-1, 1)\n",
    "y_tes = y_tes.reshape(-1, 1)\n",
    "\n",
    "print('\\n', len(x_tra), len(x_val), len(x_tes))"
   ]
  },
  {
   "cell_type": "code",
   "execution_count": 7,
   "metadata": {
    "colab": {
     "base_uri": "https://localhost:8080/",
     "height": 68
    },
    "colab_type": "code",
    "executionInfo": {
     "elapsed": 1165,
     "status": "ok",
     "timestamp": 1598599295972,
     "user": {
      "displayName": "Rimba Erlangga",
      "photoUrl": "https://lh3.googleusercontent.com/a-/AOh14GhbDizMzOZJzm_ZDS53p6dfQWrXNeeVUIQ4OxH6iQ=s64",
      "userId": "02962041020436232844"
     },
     "user_tz": -420
    },
    "id": "jduX1fY1BGlM",
    "outputId": "12e0b3aa-ca11-40f2-a994-4c4cf08b2fa8"
   },
   "outputs": [
    {
     "name": "stdout",
     "output_type": "stream",
     "text": [
      "[ 77 191]\n",
      "[ 62 153]\n",
      "[245 610]\n"
     ]
    }
   ],
   "source": [
    "# class distribution\n",
    "import numpy as np\n",
    "\n",
    "print(np.bincount(y_tra.ravel()))\n",
    "print(np.bincount(y_val.ravel()))\n",
    "print(np.bincount(y_tes.ravel()))"
   ]
  },
  {
   "cell_type": "markdown",
   "metadata": {
    "colab_type": "text",
    "id": "f_rL873LKNWP"
   },
   "source": [
    "# Generate Word List"
   ]
  },
  {
   "cell_type": "code",
   "execution_count": null,
   "metadata": {
    "colab": {
     "base_uri": "https://localhost:8080/",
     "height": 34
    },
    "colab_type": "code",
    "executionInfo": {
     "elapsed": 4210,
     "status": "ok",
     "timestamp": 1598348397480,
     "user": {
      "displayName": "Rimba Erlangga",
      "photoUrl": "https://lh3.googleusercontent.com/a-/AOh14GhbDizMzOZJzm_ZDS53p6dfQWrXNeeVUIQ4OxH6iQ=s64",
      "userId": "02962041020436232844"
     },
     "user_tz": -420
    },
    "id": "qXvYPvvC7cCZ",
    "outputId": "fce91b0c-a441-4cee-a502-666fde71f44b"
   },
   "outputs": [
    {
     "name": "stdout",
     "output_type": "stream",
     "text": [
      "Requirement already satisfied: sastrawi in /usr/local/lib/python3.6/dist-packages (1.0.1)\n"
     ]
    }
   ],
   "source": [
    "!pip install sastrawi"
   ]
  },
  {
   "cell_type": "code",
   "execution_count": 29,
   "metadata": {
    "colab": {},
    "colab_type": "code",
    "executionInfo": {
     "elapsed": 1924,
     "status": "ok",
     "timestamp": 1598600145245,
     "user": {
      "displayName": "Rimba Erlangga",
      "photoUrl": "https://lh3.googleusercontent.com/a-/AOh14GhbDizMzOZJzm_ZDS53p6dfQWrXNeeVUIQ4OxH6iQ=s64",
      "userId": "02962041020436232844"
     },
     "user_tz": -420
    },
    "id": "0gDfNcnz8DET"
   },
   "outputs": [],
   "source": [
    "import sys\n",
    "import csv\n",
    "import numpy as np\n",
    "import pandas as pd\n",
    "# import Sastrawi\n",
    "import matplotlib.pyplot as plt\n",
    "plt.style.use('seaborn-white')\n",
    "\n",
    "import tensorflow as tf\n",
    "from tensorflow.keras.preprocessing.text import Tokenizer\n",
    "from tensorflow.keras.preprocessing.sequence import pad_sequences"
   ]
  },
  {
   "cell_type": "code",
   "execution_count": 174,
   "metadata": {
    "colab": {},
    "colab_type": "code",
    "executionInfo": {
     "elapsed": 1227,
     "status": "ok",
     "timestamp": 1598606028567,
     "user": {
      "displayName": "Rimba Erlangga",
      "photoUrl": "https://lh3.googleusercontent.com/a-/AOh14GhbDizMzOZJzm_ZDS53p6dfQWrXNeeVUIQ4OxH6iQ=s64",
      "userId": "02962041020436232844"
     },
     "user_tz": -420
    },
    "id": "9WkwIauR8qie"
   },
   "outputs": [],
   "source": [
    "import json\n",
    "\n",
    "tokenizer_tr = Tokenizer()\n",
    "tokenizer_tr.fit_on_texts(np.hstack([x_tra, x_val]))\n",
    "\n",
    "tokenizer_te = Tokenizer()\n",
    "tokenizer_te.fit_on_texts(np.array(x_tes, dtype='str'))\n",
    "\n",
    "f = open('word_index_train.json', 'w')\n",
    "g = open('word_index_test.json', 'w')\n",
    "json.dump(tokenizer_tr.word_index, f)\n",
    "json.dump(tokenizer_te.word_index, g)\n",
    "f.close()\n",
    "g.close()"
   ]
  },
  {
   "cell_type": "code",
   "execution_count": null,
   "metadata": {
    "colab": {
     "base_uri": "https://localhost:8080/",
     "height": 54
    },
    "colab_type": "code",
    "executionInfo": {
     "elapsed": 1174,
     "status": "ok",
     "timestamp": 1598606063516,
     "user": {
      "displayName": "Rimba Erlangga",
      "photoUrl": "https://lh3.googleusercontent.com/a-/AOh14GhbDizMzOZJzm_ZDS53p6dfQWrXNeeVUIQ4OxH6iQ=s64",
      "userId": "02962041020436232844"
     },
     "user_tz": -420
    },
    "id": "I3990xwNENph",
    "outputId": "13f67c09-4162-4041-adad-96be60cfd27f"
   },
   "outputs": [],
   "source": [
    "!head word_index_test.json"
   ]
  },
  {
   "cell_type": "markdown",
   "metadata": {
    "colab_type": "text",
    "id": "5_nxmnziKmL2"
   },
   "source": [
    "# Prepare Embedding Matrix"
   ]
  },
  {
   "cell_type": "code",
   "execution_count": 181,
   "metadata": {
    "colab": {},
    "colab_type": "code",
    "executionInfo": {
     "elapsed": 1266,
     "status": "ok",
     "timestamp": 1598607098835,
     "user": {
      "displayName": "Rimba Erlangga",
      "photoUrl": "https://lh3.googleusercontent.com/a-/AOh14GhbDizMzOZJzm_ZDS53p6dfQWrXNeeVUIQ4OxH6iQ=s64",
      "userId": "02962041020436232844"
     },
     "user_tz": -420
    },
    "id": "4Nhwy41bZ1Da"
   },
   "outputs": [],
   "source": [
    "path = 'drive/My Drive/Kompetisi/Permutasi/emb_train.npz'\n",
    "matrix_tr = np.load(path, allow_pickle=True)\n",
    "matrix_tr = matrix_tr['matrix']\n",
    "\n",
    "path = 'drive/My Drive/Kompetisi/Permutasi/emb_test.npz'\n",
    "matrix_te = np.load(path, allow_pickle=True)\n",
    "matrix_te = matrix_te['matrix']"
   ]
  },
  {
   "cell_type": "code",
   "execution_count": 204,
   "metadata": {
    "colab": {},
    "colab_type": "code",
    "executionInfo": {
     "elapsed": 2855,
     "status": "ok",
     "timestamp": 1598608147863,
     "user": {
      "displayName": "Rimba Erlangga",
      "photoUrl": "https://lh3.googleusercontent.com/a-/AOh14GhbDizMzOZJzm_ZDS53p6dfQWrXNeeVUIQ4OxH6iQ=s64",
      "userId": "02962041020436232844"
     },
     "user_tz": -420
    },
    "id": "yCRQ_tb9afNe"
   },
   "outputs": [],
   "source": [
    "seq_tra = tokenizer_tr.texts_to_sequences(x_tra)\n",
    "seq_val = tokenizer_tr.texts_to_sequences(x_val)\n",
    "\n",
    "pad_tra = pad_sequences(seq_tra)\n",
    "pad_val = pad_sequences(seq_val)"
   ]
  },
  {
   "cell_type": "markdown",
   "metadata": {
    "colab_type": "text",
    "id": "lTP2vpoGZx3a"
   },
   "source": [
    "# Training Phase"
   ]
  },
  {
   "cell_type": "code",
   "execution_count": 236,
   "metadata": {
    "colab": {
     "base_uri": "https://localhost:8080/",
     "height": 411
    },
    "colab_type": "code",
    "executionInfo": {
     "elapsed": 3437,
     "status": "ok",
     "timestamp": 1598609423982,
     "user": {
      "displayName": "Rimba Erlangga",
      "photoUrl": "https://lh3.googleusercontent.com/a-/AOh14GhbDizMzOZJzm_ZDS53p6dfQWrXNeeVUIQ4OxH6iQ=s64",
      "userId": "02962041020436232844"
     },
     "user_tz": -420
    },
    "id": "gQOR6L6oMn5t",
    "outputId": "d159fa41-dcf6-4200-b50f-4e117dd1389d"
   },
   "outputs": [
    {
     "name": "stdout",
     "output_type": "stream",
     "text": [
      "WARNING:tensorflow:Layer lstm is casting an input tensor from dtype float64 to the layer's dtype of float32, which is new behavior in TensorFlow 2.  The layer has dtype float32 because its dtype defaults to floatx.\n",
      "\n",
      "If you intended to run this layer in float32, you can safely ignore this warning. If in doubt, this warning is likely only an issue if you are porting a TensorFlow 1.X model to TensorFlow 2.\n",
      "\n",
      "To change all layers to have dtype float64 by default, call `tf.keras.backend.set_floatx('float64')`. To change just this layer, pass dtype='float64' to the layer constructor. If you are the author of this layer, you can disable autocasting by passing autocast=False to the base Layer constructor.\n",
      "\n",
      "Model: \"model\"\n",
      "_________________________________________________________________\n",
      "Layer (type)                 Output Shape              Param #   \n",
      "=================================================================\n",
      "input (InputLayer)           [(None, None)]            0         \n",
      "_________________________________________________________________\n",
      "emb (FastText)               (None, None, 300)         277800    \n",
      "_________________________________________________________________\n",
      "lstm (LSTM)                  (None, 32)                42624     \n",
      "_________________________________________________________________\n",
      "dense (Dense)                (None, 1)                 33        \n",
      "=================================================================\n",
      "Total params: 320,457\n",
      "Trainable params: 42,657\n",
      "Non-trainable params: 277,800\n",
      "_________________________________________________________________\n"
     ]
    }
   ],
   "source": [
    "class FastText(tf.keras.layers.Layer):\n",
    "    def __init__(self, input_dim, output_dim, mask_zero=False, **kwargs):\n",
    "        super(FastText, self).__init__(**kwargs)\n",
    "        self.input_dim = input_dim\n",
    "        self.output_dim = output_dim\n",
    "        self.mask_zero = mask_zero\n",
    "\n",
    "    def build(self, input_shape):\n",
    "        embeddings = tf.Variable(matrix_tr, trainable=False)\n",
    "        self.embeddings = embeddings\n",
    "\n",
    "    def call(self, inputs):\n",
    "        return tf.nn.embedding_lookup(self.embeddings, inputs)\n",
    "\n",
    "    def compute_mask(self, inputs, mask=None):\n",
    "        if not self.mask_zero:\n",
    "            return None\n",
    "        return tf.not_equal(inputs, 0)\n",
    "\n",
    "# model arch\n",
    "inputs = tf.keras.layers.Input(shape=(None,), name='input', dtype='int32')\n",
    "layer = FastText(matrix_tr.shape[0], 300, mask_zero=True, name='emb')(inputs)\n",
    "lstm = tf.keras.layers.LSTM(32, name='lstm')(layer)\n",
    "dense = tf.keras.layers.Dense(1, activation='sigmoid', name='dense')(lstm)\n",
    "model = tf.keras.models.Model(inputs=inputs, outputs=dense, name='model')\n",
    "\n",
    "# training setup\n",
    "step = tf.Variable(0, trainable=False)\n",
    "boundaries = [50, 100]\n",
    "values = [0.1, 0.05, 0.02]\n",
    "learning_rate = tf.keras.optimizers.schedules.PiecewiseConstantDecay(\n",
    "    boundaries, values)\n",
    "optimizer = tf.keras.optimizers.RMSprop(learning_rate=learning_rate)\n",
    "\n",
    "prec = Precision(name='prec')\n",
    "rec = Recall(name='rec')\n",
    "metrics = ['acc', prec, rec]\n",
    "loss = tf.keras.losses.BinaryCrossentropy(from_logits=True)\n",
    "\n",
    "model.compile(loss=loss, optimizer=optimizer, metrics=metrics)\n",
    "model.summary()\n",
    "\n",
    "model.save_weights('drive/My Drive/Kompetisi/Permutasi/weights.hdf5')"
   ]
  },
  {
   "cell_type": "code",
   "execution_count": null,
   "metadata": {
    "colab": {},
    "colab_type": "code",
    "id": "OyF5TrWJV9gS"
   },
   "outputs": [],
   "source": [
    "mean = x_tra.shape[0] / 2\n",
    "class_weight = {0: mean / 77, 1: mean / 191}\n",
    "\n",
    "epochs = 200\n",
    "hist = model.fit(pad_tra, y_tra, epochs=epochs, batch_size=512, verbose=0, \\\n",
    "                 validation_data=(pad_val, y_val), class_weight=class_weight)"
   ]
  },
  {
   "cell_type": "code",
   "execution_count": 235,
   "metadata": {
    "colab": {
     "base_uri": "https://localhost:8080/",
     "height": 543
    },
    "colab_type": "code",
    "executionInfo": {
     "elapsed": 2535,
     "status": "ok",
     "timestamp": 1598609371223,
     "user": {
      "displayName": "Rimba Erlangga",
      "photoUrl": "https://lh3.googleusercontent.com/a-/AOh14GhbDizMzOZJzm_ZDS53p6dfQWrXNeeVUIQ4OxH6iQ=s64",
      "userId": "02962041020436232844"
     },
     "user_tz": -420
    },
    "id": "cRlXC_8_ouVE",
    "outputId": "915fbbc6-ebad-468f-87d6-b7b988191534"
   },
   "outputs": [
    {
     "data": {
      "image/png": "[encoded data removed]",
      "text/plain": [
       "<Figure size 1120x560 with 4 Axes>"
      ]
     },
     "metadata": {
      "tags": []
     },
     "output_type": "display_data"
    }
   ],
   "source": [
    "def plot_ax(axes, metrics, title):\n",
    "    val_met = 'val_' + metrics\n",
    "    axes.plot(hist.history[metrics], c='blue', linewidth=1.5)\n",
    "    axes.plot(hist.history[val_met], c='orange', linewidth=1.5)\n",
    "    axes.set_title(title)\n",
    "    axes.set_xticks(range(0, epochs, epochs // 10))\n",
    "    axes.legend([metrics, val_met], loc='best')\n",
    "    axes.set_ylabel(metrics)\n",
    "    axes.grid()\n",
    "\n",
    "fig, ax = plt.subplots(2, 2, sharex=True, figsize=(20, 10))\n",
    "fig.set_size_inches(14., 7.)\n",
    "plot_ax(ax[0][0], 'loss', 'Loss')\n",
    "plot_ax(ax[0][1], 'acc', 'Akurasi')\n",
    "plot_ax(ax[1][0], 'prec', 'Presisi')\n",
    "plot_ax(ax[1][1], 'rec', 'Recall')\n",
    "fig = plt.gcf()\n",
    "plt.suptitle('Grafik Setiap Metrics\\n(sumbu x adalah epoch)')\n",
    "plt.show()"
   ]
  },
  {
   "cell_type": "code",
   "execution_count": null,
   "metadata": {
    "colab": {},
    "colab_type": "code",
    "id": "lhp8s_8jQ_He"
   },
   "outputs": [],
   "source": []
  }
 ],
 "metadata": {
  "colab": {
   "authorship_tag": "ABX9TyP0SQEYS4z7+gxCCX2FWnwW",
   "collapsed_sections": [],
   "mount_file_id": "1xlkubzyGbsUrqiIUkT4CvyoLJ2GHngOC",
   "name": "rimba",
   "provenance": [],
   "toc_visible": true
  },
  "kernelspec": {
   "display_name": "Python 3",
   "language": "python",
   "name": "python3"
  },
  "language_info": {
   "codemirror_mode": {
    "name": "ipython",
    "version": 3
   },
   "file_extension": ".py",
   "mimetype": "text/x-python",
   "name": "python",
   "nbconvert_exporter": "python",
   "pygments_lexer": "ipython3",
   "version": "3.6.5"
  }
 },
 "nbformat": 4,
 "nbformat_minor": 4
}
